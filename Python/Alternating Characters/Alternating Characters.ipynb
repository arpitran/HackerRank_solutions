{
 "cells": [
  {
   "cell_type": "markdown",
   "metadata": {},
   "source": [
    "### Alternating Characters\n",
    "You are given a string containing characters A and B only. Your task is to change it into a string such that there are no matching adjacent characters. To do this, you are allowed to delete zero or more characters in the string.\n",
    "Your task is to find the minimum number of required deletions.\n",
    "For example, given the string s = AABAAB, remove an A at position ) 0 and 3 to make s = ABAB in 2 deletions.\n",
    "\n",
    "#### Function Description\n",
    "Complete the alternating Characters function in the editor below. It must return an integer representing the minimum number of deletions to make the alternating string.\n",
    "alternatingCharacters has the following parameters(s):\n",
    "* s: a string\n",
    "\n",
    "#### Input Format\n",
    "The first line contains an integer 1, the number of queries.\n",
    "The next q lines each contain a string s\n",
    "\n",
    "#### Constraints \n",
    "* 1<= q <= 10\n",
    "* 1 <=|s|<=10^5"
   ]
  },
  {
   "cell_type": "code",
   "execution_count": 3,
   "metadata": {},
   "outputs": [],
   "source": [
    "string = \"AABAAB\""
   ]
  },
  {
   "cell_type": "code",
   "execution_count": 4,
   "metadata": {},
   "outputs": [
    {
     "name": "stdout",
     "output_type": "stream",
     "text": [
      "2\n"
     ]
    }
   ],
   "source": [
    "def alternatingCharacters(s):\n",
    "    deletions = 0\n",
    "    for i in range(len(string)-1):\n",
    "        if string[i] == string[i+1]:\n",
    "            deletions+=1\n",
    "    return deletions\n",
    "\n",
    "print(alternatingCharacters(string))"
   ]
  },
  {
   "cell_type": "code",
   "execution_count": null,
   "metadata": {},
   "outputs": [],
   "source": []
  }
 ],
 "metadata": {
  "kernelspec": {
   "display_name": "Python 3.7.6 64-bit",
   "language": "python",
   "name": "python37664bit910bb1eb151e492faa58b1db9f13ff98"
  },
  "language_info": {
   "codemirror_mode": {
    "name": "ipython",
    "version": 3
   },
   "file_extension": ".py",
   "mimetype": "text/x-python",
   "name": "python",
   "nbconvert_exporter": "python",
   "pygments_lexer": "ipython3",
   "version": "3.7.6"
  }
 },
 "nbformat": 4,
 "nbformat_minor": 2
}
